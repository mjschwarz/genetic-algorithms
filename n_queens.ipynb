{
  "nbformat": 4,
  "nbformat_minor": 0,
  "metadata": {
    "colab": {
      "provenance": []
    },
    "kernelspec": {
      "name": "python3",
      "display_name": "Python 3"
    },
    "language_info": {
      "name": "python"
    }
  },
  "cells": [
    {
      "cell_type": "markdown",
      "source": [
        "# N-Queens Problem"
      ],
      "metadata": {
        "id": "GJsWocqABsYP"
      }
    },
    {
      "cell_type": "markdown",
      "source": [
        "## Objective: Compare recursive backtracking and genetic algorithm approaches"
      ],
      "metadata": {
        "id": "vxusVWxtCAnE"
      }
    },
    {
      "cell_type": "markdown",
      "source": [
        "### Recursive backtracking implementation"
      ],
      "metadata": {
        "id": "Kiciy9sLCDub"
      }
    },
    {
      "cell_type": "code",
      "source": [
        "# Reference: https://reintech.io/blog/python-algorithms-solving-n-queen-problem\n",
        "\n",
        "'''\n",
        "Returns an empty NxN board (full of zeros)\n",
        "'''\n",
        "def generate_board(N):\n",
        "  return [[0 for _ in range(N)] for _ in range(N)]\n",
        "\n",
        "'''\n",
        "Checks if the new Queen is under attack at this space\n",
        "'''\n",
        "def is_safe(board, row, col):\n",
        "    # Row (only to the left)\n",
        "    for i in range(col):\n",
        "        if board[row][i] == 1:\n",
        "            return False\n",
        "\n",
        "    # Upper diagonal '\\' (only to the left)\n",
        "    for i, j in zip(range(row, -1, -1), range(col, -1, -1)):\n",
        "        if board[i][j] == 1:\n",
        "            return False\n",
        "\n",
        "    # Lower diagonal '/' (only to the left)\n",
        "    for i, j in zip(range(row, N, 1), range(col, -1, -1)):\n",
        "        if board[i][j] == 1:\n",
        "            return False\n",
        "\n",
        "    return True\n",
        "\n",
        "\n",
        "'''\n",
        "Helper function for recursive backtracking\n",
        "- Modifies board parameter with solved Queen placements\n",
        "'''\n",
        "def n_queens_helper(board, col):\n",
        "    N = len(board[0])\n",
        "    # Base case: All queens are placed\n",
        "    if col >= N:\n",
        "        return True\n",
        "\n",
        "    # For this column, try placing the Queen in each row\n",
        "    for row in range(N):\n",
        "        if is_safe(board, row, col):\n",
        "            board[row][col] = 1 # Place a Queen\n",
        "\n",
        "            # Recursively backtrack\n",
        "            if n_queens_helper(board, col + 1) == True:\n",
        "                return True # Solution found\n",
        "\n",
        "            board[row][col] = 0 # Remove that Queen\n",
        "\n",
        "    # No solution found\n",
        "    return False\n",
        "\n",
        "'''\n",
        "N-Queens solver\n",
        "- Solves N-Queens problem using recursive backtracking\n",
        "'''\n",
        "def n_queens_recursive_backtracking(N):\n",
        "  board = generate_board(N)\n",
        "  n_queens_helper(board, 0)\n",
        "  return board"
      ],
      "metadata": {
        "id": "JKMnP2E2EmTf"
      },
      "execution_count": 48,
      "outputs": []
    },
    {
      "cell_type": "markdown",
      "source": [
        "### Genetic algorithm implementation"
      ],
      "metadata": {
        "id": "ri5yUBnSLmeO"
      }
    },
    {
      "cell_type": "code",
      "source": [
        "# Reference: https://www.educative.io/answers/solving-the-8-queen-problem-using-genetic-algorithm\n",
        "\n",
        "import random\n",
        "\n",
        "'''\n",
        "Convert genetic algorithm board representation to 2D array representation\n",
        "- For testing/comparision purposes\n",
        "'''\n",
        "def convert_flat_board_to_2d(flat_board):\n",
        "  N = len(flat_board)\n",
        "  board_2d = generate_board(N)\n",
        "\n",
        "  for col, row_plus_1 in enumerate(flat_board):\n",
        "    board_2d[row_plus_1 - 1][col] = 1\n",
        "\n",
        "  return board_2d\n",
        "\n",
        "'''\n",
        "Initial start state\n",
        "- Generate a random board state (index = column, value = row where Queen located)\n",
        "'''\n",
        "def generate_board_state(N):\n",
        "    board_state = [random.randint(0, N - 1) for _ in range(N)]\n",
        "    return board_state\n",
        "\n",
        "'''\n",
        "Calculate the fitness of a board state\n",
        "- Fitness function: Add the number of non-attacking pairs for each queen\n",
        "'''\n",
        "def calculate_fitness(board_state):\n",
        "    N = len(board_state)\n",
        "    MAX_FITNESS = N * (N - 1) / 2\n",
        "    conflicts = 0\n",
        "    for i in range(N):\n",
        "        for j in range(i + 1, N):\n",
        "            if board_state[i] == board_state[j] or abs(board_state[i] - board_state[j]) == j - i:\n",
        "                conflicts += 1\n",
        "    return MAX_FITNESS - conflicts  # For 8-Queens: Max fitness = 28 (no conflicts)\n",
        "\n",
        "'''\n",
        "Selection\n",
        "- Select parents for crossover (using tournament selection)\n",
        "'''\n",
        "def tournament_selection(population):\n",
        "    tournament_size = 5\n",
        "    tournament = random.sample(population, tournament_size)\n",
        "    return max(tournament, key=lambda x: x[1])\n",
        "\n",
        "'''\n",
        "Crossover\n",
        "- Crossover operation (single-point crossover)\n",
        "'''\n",
        "def crossover(parent1, parent2):\n",
        "    N = len(parent1)\n",
        "    crossover_point = random.randint(1, N - 1)\n",
        "    child = parent1[:crossover_point] + parent2[crossover_point:]\n",
        "    return child\n",
        "\n",
        "'''\n",
        "Mutation\n",
        "- Mutation operation (swap two positions)\n",
        "'''\n",
        "def mutate(board_state):\n",
        "    N = len(board_state)\n",
        "    pos1, pos2 = random.sample(range(N), 2)\n",
        "    board_state[pos1], board_state[pos2] = board_state[pos2], board_state[pos1]\n",
        "    return board_state\n",
        "\n",
        "'''\n",
        "N-Queens solver\n",
        "- Solves N-Queens problem using genetic algorithm\n",
        "'''\n",
        "def n_queens_genetic(N, POPULATION_SIZE=50, MUTATION_RATE=0.1, MAX_GENERATIONS=100):\n",
        "  MAX_FITNESS = N * (N - 1) / 2\n",
        "\n",
        "  # Initial population\n",
        "  population = [(generate_board_state(N), 0) for _ in range(POPULATION_SIZE)]\n",
        "\n",
        "  # Loop over generations...\n",
        "  for generation in range(MAX_GENERATIONS):\n",
        "      # Calculate fitness for each board state\n",
        "      population = [(board_state, calculate_fitness(board_state)) for board_state, _ in population]\n",
        "\n",
        "      # Check if solution is found\n",
        "      best_board_state = max(population, key=lambda x: x[1])[0]\n",
        "      if calculate_fitness(best_board_state) == MAX_FITNESS:\n",
        "          #print(\"Solution found in generation\", generation)\n",
        "          break\n",
        "\n",
        "      # Create the next generation\n",
        "      new_population = []\n",
        "\n",
        "      # Elitism: Keep the best board state from the previous generation\n",
        "      new_population.append(max(population, key=lambda x: x[1]))\n",
        "\n",
        "      # Perform selection, crossover, and mutation\n",
        "      while len(new_population) < POPULATION_SIZE:\n",
        "          parent1 = tournament_selection(population)\n",
        "          parent2 = tournament_selection(population)\n",
        "          child = crossover(parent1[0], parent2[0])\n",
        "          if random.random() < MUTATION_RATE:\n",
        "              child = mutate(child)\n",
        "          new_population.append((child, 0))\n",
        "\n",
        "      # Update the population\n",
        "      population = new_population\n",
        "\n",
        "  return best_board_state"
      ],
      "metadata": {
        "id": "43siV3VLKqtP"
      },
      "execution_count": 84,
      "outputs": []
    },
    {
      "cell_type": "markdown",
      "source": [
        "### Compare the approaches\n",
        "- Time each algorithm for multiple board sizes\n",
        "- Run 5 trials for each combination and report the average"
      ],
      "metadata": {
        "id": "J4sVgTj0lGRy"
      }
    },
    {
      "cell_type": "code",
      "source": [
        "from time import time\n",
        "import numpy as np\n",
        "\n",
        "recursive_backtracking_runtime = {}\n",
        "recursive_backtracking_stdev = {}\n",
        "\n",
        "genetic_algorithm_runtime = {}\n",
        "genetic_algorithm_stdev = {}\n",
        "\n",
        "for N in range(8, 21, 2):\n",
        "  # Recursive backtracking\n",
        "  runtimes = []\n",
        "  for _ in range(5):\n",
        "    start = time()\n",
        "    n_queens_recursive_backtracking(N)\n",
        "    runtimes.append(time() - start)\n",
        "  runtime = np.mean(runtimes)\n",
        "  stdev = np.std(runtimes)\n",
        "  recursive_backtracking_runtime[N] = runtime\n",
        "  recursive_backtracking_stdev[N] = stdev\n",
        "  print(f'Recurisve backtracking ({N}): {runtime} sec (+/- {stdev} sec)')\n",
        "\n",
        "  # Genetic algorithm\n",
        "  runtimes = []\n",
        "  for _ in range(5):\n",
        "    start = time()\n",
        "    n_queens_genetic(N)\n",
        "    runtimes.append(time() - start)\n",
        "  runtime = np.mean(runtimes)\n",
        "  stdev = np.std(runtimes)\n",
        "  genetic_algorithm_runtime[N] = runtime\n",
        "  genetic_algorithm_stdev[N] = stdev\n",
        "  print(f'Genetic algorithm ({N}): {runtime} sec (+/- {stdev} sec)')\n",
        "\n",
        "  print()"
      ],
      "metadata": {
        "colab": {
          "base_uri": "https://localhost:8080/"
        },
        "id": "8B5vwfBFlVnW",
        "outputId": "10ea88b8-9959-4ab6-d2b6-c149fb4b6ac1"
      },
      "execution_count": 81,
      "outputs": [
        {
          "output_type": "stream",
          "name": "stdout",
          "text": [
            "Recurisve backtracking (8): 0.0012406349182128907 sec (+/- 0.0002813718091380134 sec)\n",
            "Genetic algorithm (8): 0.10436072349548339 sec (+/- 0.004463095853880588 sec)\n",
            "\n",
            "Recurisve backtracking (10): 0.0012453556060791015 sec (+/- 0.00025457570013918425 sec)\n",
            "Genetic algorithm (10): 0.12601613998413086 sec (+/- 0.006143037757943961 sec)\n",
            "\n",
            "Recurisve backtracking (12): 0.003611898422241211 sec (+/- 4.151622636693276e-05 sec)\n",
            "Genetic algorithm (12): 0.1481043815612793 sec (+/- 0.0017799373034289878 sec)\n",
            "\n",
            "Recurisve backtracking (14): 0.033360862731933595 sec (+/- 0.0009429124098137607 sec)\n",
            "Genetic algorithm (14): 0.17609214782714844 sec (+/- 0.004331912616407787 sec)\n",
            "\n",
            "Recurisve backtracking (16): 0.21723170280456544 sec (+/- 0.007133043623345398 sec)\n",
            "Genetic algorithm (16): 0.21280217170715332 sec (+/- 0.0076470266102314005 sec)\n",
            "\n",
            "Recurisve backtracking (18): 1.5271340370178224 sec (+/- 0.4277595206762786 sec)\n",
            "Genetic algorithm (18): 0.2531274795532227 sec (+/- 0.00568639925392268 sec)\n",
            "\n",
            "Recurisve backtracking (20): 6.884897994995117 sec (+/- 1.1325823791620293 sec)\n",
            "Genetic algorithm (20): 0.31280126571655276 sec (+/- 0.04977286972846699 sec)\n",
            "\n"
          ]
        }
      ]
    },
    {
      "cell_type": "markdown",
      "source": [
        "### Findings\n",
        "- Plot the average algorithm runtimes vs the board size/number of queens (N)"
      ],
      "metadata": {
        "id": "OdkPaQKIm58v"
      }
    },
    {
      "cell_type": "code",
      "source": [
        "import matplotlib.pyplot as plt\n",
        "\n",
        "# Plot average algorithm runtime vs. N\n",
        "recursive_backtracking_runtime_sorted = sorted(recursive_backtracking_runtime.items()) # sorted by key, return a list of tuples\n",
        "genetic_algorithm_runtime_sorted = sorted(genetic_algorithm_runtime.items())\n",
        "\n",
        "recursive_backtracking_N, recursive_backtracking_runtime = zip(*recursive_backtracking_runtime_sorted) # unpack a list of pairs into two tuples\n",
        "genetic_algorithm_N, genetic_algorithm_runtime = zip(*genetic_algorithm_runtime_sorted)\n",
        "\n",
        "plt.plot(recursive_backtracking_N, recursive_backtracking_runtime, 'r')\n",
        "plt.plot(genetic_algorithm_N, genetic_algorithm_runtime, 'g')\n",
        "\n",
        "plt.xlabel('N')\n",
        "plt.ylabel('Average Algorithm Runtime (sec)')\n",
        "\n",
        "plt.legend(['Recurive backtracking', 'Genetic algorithm'], loc =\"upper left\")\n",
        "\n",
        "plt.show()"
      ],
      "metadata": {
        "colab": {
          "base_uri": "https://localhost:8080/",
          "height": 449
        },
        "id": "lSYW_oWumVl4",
        "outputId": "ee9cb795-c6a2-49e6-9d2d-c317e71f4c8c"
      },
      "execution_count": 82,
      "outputs": [
        {
          "output_type": "display_data",
          "data": {
            "text/plain": [
              "<Figure size 640x480 with 1 Axes>"
            ],
            "image/png": "[encoded data removed]"
          },
          "metadata": {}
        }
      ]
    },
    {
      "cell_type": "code",
      "source": [
        "# Plot stdev of algorithm runtime vs. N\n",
        "recursive_backtracking_stdev_sorted = sorted(recursive_backtracking_stdev.items()) # sorted by key, return a list of tuples\n",
        "genetic_algorithm_stdev_sorted = sorted(genetic_algorithm_stdev.items())\n",
        "\n",
        "recursive_backtracking_N, recursive_backtracking_stdev = zip(*recursive_backtracking_stdev_sorted) # unpack a list of pairs into two tuples\n",
        "genetic_algorithm_N, genetic_algorithm_stdev = zip(*genetic_algorithm_stdev_sorted)\n",
        "\n",
        "plt.plot(recursive_backtracking_N, recursive_backtracking_stdev, 'r')\n",
        "plt.plot(genetic_algorithm_N, genetic_algorithm_stdev, 'g')\n",
        "\n",
        "plt.xlabel('N')\n",
        "plt.ylabel('Stdev of Algorithm Runtime (sec)')\n",
        "\n",
        "plt.legend(['Recurive backtracking', 'Genetic algorithm'], loc =\"upper left\")\n",
        "\n",
        "plt.show()"
      ],
      "metadata": {
        "colab": {
          "base_uri": "https://localhost:8080/",
          "height": 449
        },
        "id": "cEf52qnBwZ31",
        "outputId": "41c44b6a-0eb4-4a63-84fa-b1db2fa6f399"
      },
      "execution_count": 83,
      "outputs": [
        {
          "output_type": "display_data",
          "data": {
            "text/plain": [
              "<Figure size 640x480 with 1 Axes>"
            ],
            "image/png": "[encoded data removed]"
          },
          "metadata": {}
        }
      ]
    },
    {
      "cell_type": "markdown",
      "source": [
        "### Observations\n",
        "- Identify and interpret any relationships observed"
      ],
      "metadata": {
        "id": "lhQQfMEvrdJL"
      }
    },
    {
      "cell_type": "markdown",
      "source": [
        "Recursive backtracking is slightly faster for small to medium N's (<= 16); however, the difference is marginal.\n",
        "For large N's (> 16), the runtime of recursive backtracking grows very quickly.\n",
        "\n",
        "On the other hand, the runtime of the genetic algorithm remains fairly flat/constant, even for large N's.\n",
        "\n",
        "As such, we may conclude that a recursive backtracking approach is superior in terms of runtime when N is not large (<= 16) while a genetic algorithm approach is better for larger N's (> 16).\n",
        "\n",
        "Furthermore, the variation in runtimes between trials for a given N remains fairly constant for all N's with the genetic algorithm. In contrast, while low when N is not large (<= 16), the variation in runtime increasly quickly for the recursive backtracking approach for larger N's (> 16).\n",
        "\n",
        "This suggests that, while there does not appear to be much difference in runtime consistency between the approaches when N is not large (<= 16), the genetic algorithm is much less volatile in terms of runtime when N is large (> 16), making it a safer choice.\n",
        "\n",
        "In summary, the **genetic algorithm outperforms recursive backtracking when N is large (> 16) in terms of both absolute and consistency of runtime performance**. For N's that are not large (<= 16), recursive backtracking performs slightly better; however, there does not appear to be much difference in performance."
      ],
      "metadata": {
        "id": "8xchJdmPrpyK"
      }
    }
  ]
}