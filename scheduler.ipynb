{
 "cells": [
  {
   "cell_type": "markdown",
   "metadata": {},
   "source": [
    "## Genetic Algorithm for Course Schedule\n",
    "\n",
    "##### We will see how we can apply a genetic algorithm to solve a prerequisite problem similar to the abilities of topological sort. We will then, however, take a look at how it can extend beyond a traditional algorithm to a more complex utility. This will hopefully showcase how we as students could leverage genetic algorithms for constrained optimization problems we may face.\n"
   ]
  },
  {
   "cell_type": "code",
   "execution_count": 32,
   "metadata": {},
   "outputs": [],
   "source": [
    "import random\n",
    "from copy import deepcopy\n",
    "from tqdm import tqdm"
   ]
  },
  {
   "cell_type": "markdown",
   "metadata": {},
   "source": [
    "This code defines a class called `Course` with a few key attributes."
   ]
  },
  {
   "cell_type": "code",
   "execution_count": 33,
   "metadata": {},
   "outputs": [],
   "source": [
    "class Course:\n",
    "    def __init__(self, name, hours, subject, difficulty):\n",
    "        self.name = name\n",
    "        self.hours = hours\n",
    "        self.subject = subject\n",
    "        self.difficulty = difficulty\n",
    "    \n",
    "    def __str__(self):\n",
    "        return self.name"
   ]
  },
  {
   "cell_type": "markdown",
   "metadata": {},
   "source": [
    "This code defines a class `Semester` which will have a list of courses and a few key attributes."
   ]
  },
  {
   "cell_type": "code",
   "execution_count": 34,
   "metadata": {},
   "outputs": [],
   "source": [
    "class Semester:\n",
    "    def __init__(self, courses):\n",
    "        self.courses = courses\n",
    "        self.hours = sum([course.hours for course in courses])\n",
    "        self.difficulty = sum([course.difficulty for course in courses])\n",
    "        self.subjects = set(course.subject for course in courses)\n",
    "    \n",
    "    def __str__(self):\n",
    "        return f\"Semester: {self.hours} hours, {self.difficulty} difficulty, {self.subjects} subjects\""
   ]
  },
  {
   "cell_type": "markdown",
   "metadata": {},
   "source": [
    "Finally, this code defines a class `Schedule` which will have a list of semesters and a few key attributes."
   ]
  },
  {
   "cell_type": "code",
   "execution_count": 35,
   "metadata": {},
   "outputs": [],
   "source": [
    "class Schedule:\n",
    "    def __init__(self, semesters):\n",
    "        self.semesters = semesters\n",
    "\n",
    "    def __str__(self):\n",
    "        str = ''\n",
    "        for semester in self.semesters:\n",
    "            for c in semester.courses:\n",
    "                str += f\"{c.name} \"\n",
    "            str += '\\n'\n",
    "        return str"
   ]
  },
  {
   "cell_type": "markdown",
   "metadata": {},
   "source": [
    "All of the relevant courses are below"
   ]
  },
  {
   "cell_type": "code",
   "execution_count": 36,
   "metadata": {},
   "outputs": [],
   "source": [
    "# create courses\n",
    "courses = [\n",
    "    # CS classes\n",
    "    Course(\"CS 1101\", 3, \"CS\", 2),\n",
    "    Course(\"CS 2201\", 3, \"CS\", 5),\n",
    "    Course(\"CS 2212\", 3, \"CS\", 3),\n",
    "    Course(\"CS 3251\", 3, \"CS\", 5),\n",
    "    Course(\"CS 3250\", 3, \"CS\", 5),\n",
    "    Course(\"CS 3270\", 3, \"CS\", 4),\n",
    "    Course(\"CS 3281\", 3, \"CS\", 4),\n",
    "    # Math classes\n",
    "    Course(\"MATH 1300\", 3, \"MATH\", 4),\n",
    "    Course(\"MATH 1301\", 3, \"MATH\", 4),\n",
    "    Course(\"MATH 2300\", 3, \"MATH\", 4),\n",
    "    # Physics classes\n",
    "    Course(\"PHYS 1600\", 3, \"PHYS\", 4),\n",
    "    Course(\"PHYS 1601\", 3, \"PHYS\", 4),\n",
    "    # English classes\n",
    "    Course(\"ENGL 1101\", 3, \"ENGL\", 3),\n",
    "    Course(\"ENGL 1102\", 3, \"ENGL\", 3),\n",
    "    # History classes\n",
    "    Course(\"HIST 1101\", 3, \"HIST\", 3),\n",
    "    Course(\"HIST 1102\", 3, \"HIST\", 3),\n",
    "    # Philosophy classes\n",
    "    Course(\"PHIL 1101\", 3, \"PHIL\", 3),\n",
    "    Course(\"PHIL 1102\", 3, \"PHIL\", 3),\n",
    "    # Religion classes\n",
    "    Course(\"RELG 1101\", 3, \"RELG\", 3),\n",
    "    Course(\"RELG 1102\", 3, \"RELG\", 3),\n",
    "]"
   ]
  },
  {
   "cell_type": "markdown",
   "metadata": {},
   "source": [
    "We will store prerequisites in a dictionary where the key is the course and the value is a set of prerequisites."
   ]
  },
  {
   "cell_type": "code",
   "execution_count": 37,
   "metadata": {},
   "outputs": [],
   "source": [
    "# set up prereqs\n",
    "prereqs = {\n",
    "    \"CS 2201\": set([\"CS 1101\"]),\n",
    "    \"CS 2212\": set([\"CS 1101\"]),\n",
    "    \"CS 3251\": set([\"CS 2201\", \"CS 2212\"]),\n",
    "    \"CS 3250\": set([\"CS 2201\", \"CS 2212\"]),\n",
    "    \"CS 3270\": set([\"CS 2201\", \"CS 2212\"]),\n",
    "    \"CS 3281\": set([\"CS 2201\", \"CS 2212\"]),\n",
    "    \"MATH 1301\": set([\"MATH 1300\"]),\n",
    "    \"MATH 2300\": set([\"MATH 1301\"]),\n",
    "    \"PHYS 1601\": set([\"PHYS 1600\"]),\n",
    "    \"ENGL 1102\": set([\"ENGL 1101\"]),\n",
    "    \"HIST 1102\": set([\"HIST 1101\"]),\n",
    "    \"PHIL 1102\": set([\"PHIL 1101\"]),\n",
    "    \"RELG 1102\": set([\"RELG 1101\"]),\n",
    "}"
   ]
  },
  {
   "cell_type": "markdown",
   "metadata": {},
   "source": [
    "The code defines a function called `schedule_fitness` that calculates the utility of a given schedule. This is the key to our genetic algorithm. We will use this function to determine how good a given schedule is. This is where we can and will put any types of goals we want to achieve. For example, we could try to minimize the number of math classes or maximize philosophy classes.\n",
    "\n",
    "In our case we will take a more realistic approach. Our goal will be to take all the classes without violating any prerequisites. "
   ]
  },
  {
   "cell_type": "code",
   "execution_count": 38,
   "metadata": {},
   "outputs": [],
   "source": [
    "def schedule_fitness(schedule, verbose=False):\n",
    "    utility = 0\n",
    "    \n",
    "    # we should now check for prereqs\n",
    "    taken_names = set()\n",
    "    for semester in schedule.semesters:\n",
    "        temp_taken = []\n",
    "        for course in semester.courses:\n",
    "            if course.name in prereqs:\n",
    "                for prereq in prereqs[course.name]:\n",
    "                    if prereq not in taken_names:\n",
    "                        if verbose:\n",
    "                            print(f\"Prereq not taken: {prereq} for {course.name}\")\n",
    "                        utility -= 1000\n",
    "            temp_taken.append(course.name)\n",
    "        taken_names.update(temp_taken)\n",
    "\n",
    "    # now we should check for duplicates\n",
    "    taken_names = set()\n",
    "    for semester in schedule.semesters:\n",
    "        for course in semester.courses:\n",
    "            if course.name in taken_names:\n",
    "                utility -= 1000\n",
    "            taken_names.add(course.name)\n",
    "\n",
    "    return utility"
   ]
  },
  {
   "cell_type": "markdown",
   "metadata": {},
   "source": [
    "Below is also an important component which will allow us to mutate a schedule by swapping a pair of courses in two arbitrary semesters. This will allow us to explore the space of possible schedules."
   ]
  },
  {
   "cell_type": "code",
   "execution_count": 39,
   "metadata": {},
   "outputs": [],
   "source": [
    "def schedule_mutate(schedule):\n",
    "    # make a copy of the schedule\n",
    "    schedule = deepcopy(schedule)\n",
    "    # swap two courses\n",
    "    semester1 = random.choice(schedule.semesters)\n",
    "    semester2 = random.choice(schedule.semesters)\n",
    "    while semester1 == semester2:\n",
    "        semester2 = random.choice(schedule.semesters)\n",
    "    course1 = random.choice(semester1.courses)\n",
    "    course2 = random.choice(semester2.courses)\n",
    "    if course1 == course2:\n",
    "        return schedule\n",
    "    semester1.courses.remove(course1)\n",
    "    semester2.courses.remove(course2)\n",
    "    semester2.courses.append(course1)\n",
    "    semester1.courses.append(course2)\n",
    "\n",
    "    return schedule"
   ]
  },
  {
   "cell_type": "code",
   "execution_count": 40,
   "metadata": {},
   "outputs": [],
   "source": [
    "def random_schedule():\n",
    "    # create a list of courses\n",
    "    course_list = deepcopy(courses)\n",
    "    # shuffle the list\n",
    "    random.shuffle(course_list)\n",
    "    # create 4 semesters of 5 courses each\n",
    "    semesters = []\n",
    "    for i in range(4):\n",
    "        semesters.append(Semester(course_list[i*5:(i+1)*5]))\n",
    "    # return a new schedule\n",
    "    return Schedule(semesters)"
   ]
  },
  {
   "cell_type": "markdown",
   "metadata": {},
   "source": [
    "Our main loop constructs 100 random schedules. It then runs the genetic algorithm for a specified number of iterations. Each time we take the top 10 schedules and breed them to create 90 new schedules. We then sort our schedules by fitness and use the top 10 to breed again. We repeat this process until we have reached the specified number of iterations.\n",
    "\n",
    "In our case, it does not make sense to try to join two schedules as we will almost certainly have duplicates or a nonsensical schedule. Instead, we will perform something more akin to asexual reproduction. We will take two schedules and swap a pair of courses in two semesters. This will allow us to explore the space of possible schedules."
   ]
  },
  {
   "cell_type": "code",
   "execution_count": 41,
   "metadata": {},
   "outputs": [],
   "source": [
    "def run(num_iterations=10000, schedule_fitness=schedule_fitness):\n",
    "    initial_population = [random_schedule() for i in range(100)]\n",
    "    best_schedule = None\n",
    "    best_fitness = -1000000000\n",
    "\n",
    "    for i in range(num_iterations):\n",
    "        # pick top 10 parents\n",
    "        parents = sorted(initial_population, key=schedule_fitness, reverse=True)[:10]\n",
    "        # create 90 children\n",
    "        children = []\n",
    "        for j in range(90):\n",
    "            # pick a random parent\n",
    "            parent = random.choice(parents)\n",
    "            # mutate the parent\n",
    "            child = schedule_mutate(parent)\n",
    "            # add the child to the children\n",
    "            children.append(child)\n",
    "        # combine the parents and children\n",
    "        initial_population = parents + children\n",
    "        # sort the population by fitness\n",
    "        initial_population = sorted(initial_population, key=schedule_fitness, reverse=True)\n",
    "        # kill the bottom 90\n",
    "        initial_population = initial_population[:10]\n",
    "        # check if the top schedule is the best\n",
    "        if schedule_fitness(initial_population[0]) > best_fitness:\n",
    "            best_fitness = schedule_fitness(initial_population[0])\n",
    "            best_schedule = initial_population[0]\n",
    "\n",
    "        if i % 1000 == 0:\n",
    "            print(f\"Iteration: {i}\")\n",
    "            print(f\"Best fitness: {best_fitness}\")\n",
    "            print(best_schedule)\n",
    "\n",
    "    print(f\"Best fitness: {best_fitness}\")\n",
    "    print(best_schedule)\n",
    "    return best_schedule"
   ]
  },
  {
   "cell_type": "code",
   "execution_count": 42,
   "metadata": {},
   "outputs": [
    {
     "name": "stdout",
     "output_type": "stream",
     "text": [
      "Iteration: 0\n",
      "Best fitness: -4000\n",
      "MATH 2300 MATH 1301 CS 2201 CS 2212 MATH 1300 \n",
      "HIST 1101 RELG 1101 PHYS 1600 ENGL 1101 CS 3270 \n",
      "PHYS 1601 CS 3281 ENGL 1102 CS 3250 PHIL 1101 \n",
      "CS 3251 HIST 1102 PHIL 1102 CS 1101 RELG 1102 \n",
      "\n",
      "Best fitness: 0\n",
      "ENGL 1101 CS 1101 PHYS 1600 PHIL 1101 HIST 1101 \n",
      "CS 2201 PHYS 1601 MATH 1300 RELG 1101 CS 2212 \n",
      "CS 3270 MATH 1301 CS 3250 PHIL 1102 ENGL 1102 \n",
      "HIST 1102 CS 3251 MATH 2300 RELG 1102 CS 3281 \n",
      "\n"
     ]
    }
   ],
   "source": [
    "schedule = run(10)"
   ]
  },
  {
   "cell_type": "markdown",
   "metadata": {},
   "source": [
    "We can see in a very short period of time that our genetic algorithm learns a proper schedule where no prerequisites are violated. This, of course, can be accomplished through other means such as a simple topological sort, but the genetic algorithm has advantages in that we can modify the fitness function to optimize for other things."
   ]
  },
  {
   "cell_type": "markdown",
   "metadata": {},
   "source": [
    "Let's say that we are planning to do a Physics related internship during the summer of Freshman year. We can modify the fitness function to optimize for the number of Physics related courses taken during the first two semesters."
   ]
  },
  {
   "cell_type": "code",
   "execution_count": 43,
   "metadata": {},
   "outputs": [],
   "source": [
    "def schedule_fitness_2(schedule, verbose=False):\n",
    "    utility = 0\n",
    "    \n",
    "    # we should now check for prereqs\n",
    "    taken_names = set()\n",
    "    for semester in schedule.semesters:\n",
    "        temp_taken = []\n",
    "        for course in semester.courses:\n",
    "            if course.name in prereqs:\n",
    "                for prereq in prereqs[course.name]:\n",
    "                    if prereq not in taken_names:\n",
    "                        if verbose:\n",
    "                            print(f\"Prereq not taken: {prereq} for {course.name}\")\n",
    "                        utility -= 1000\n",
    "            temp_taken.append(course.name)\n",
    "        taken_names.update(temp_taken)\n",
    "\n",
    "    # now we should check for duplicates\n",
    "    taken_names = set()\n",
    "    for semester in schedule.semesters:\n",
    "        for course in semester.courses:\n",
    "            if course.name in taken_names:\n",
    "                utility -= 1000\n",
    "            taken_names.add(course.name)\n",
    "\n",
    "    # lets reward physics classes in the first two semesters\n",
    "    if \"PHYS 1600\" in [course.name for course in schedule.semesters[0].courses]:\n",
    "        utility += 300\n",
    "    if \"PHYS 1601\" in [course.name for course in schedule.semesters[1].courses]:\n",
    "        utility += 300\n",
    "\n",
    "    return utility"
   ]
  },
  {
   "cell_type": "code",
   "execution_count": 45,
   "metadata": {},
   "outputs": [
    {
     "name": "stdout",
     "output_type": "stream",
     "text": [
      "Iteration: 0\n",
      "Best fitness: -3700\n",
      "MATH 1301 HIST 1101 CS 2201 PHIL 1101 PHYS 1600 \n",
      "HIST 1102 MATH 1300 CS 2212 MATH 2300 ENGL 1102 \n",
      "ENGL 1101 CS 3281 RELG 1101 PHIL 1102 PHYS 1601 \n",
      "CS 3250 CS 3251 CS 1101 CS 3270 RELG 1102 \n",
      "\n",
      "Best fitness: 600\n",
      "HIST 1101 PHIL 1101 PHYS 1600 CS 1101 MATH 1300 \n",
      "HIST 1102 CS 2212 PHYS 1601 ENGL 1101 MATH 1301 \n",
      "RELG 1101 PHIL 1102 ENGL 1102 MATH 2300 CS 2201 \n",
      "CS 3251 CS 3270 RELG 1102 CS 3281 CS 3250 \n",
      "\n"
     ]
    }
   ],
   "source": [
    "schedule_2 = run(1000, schedule_fitness_2)"
   ]
  },
  {
   "cell_type": "markdown",
   "metadata": {},
   "source": [
    "Now we can see that the genetic algorithm has learned a schedule that has 2 Physics related courses in the first two semesters. This is a very simple example, but it shows how we can modify the utility function to optimize for different things. In many cases, our schedule may not be able to accomplish all utility points but we can still optimize for the most important ones even if we ourselves don't know what an ideal schedule looks like."
   ]
  },
  {
   "cell_type": "markdown",
   "metadata": {},
   "source": [
    "Hopefully now we can appreciate the power of genetic algorithms and how they can be applied to a wide variety of problems including those within our own lives that we do not know the optimal solution to."
   ]
  }
 ],
 "metadata": {
  "kernelspec": {
   "display_name": "Python 3",
   "language": "python",
   "name": "python3"
  },
  "language_info": {
   "codemirror_mode": {
    "name": "ipython",
    "version": 3
   },
   "file_extension": ".py",
   "mimetype": "text/x-python",
   "name": "python",
   "nbconvert_exporter": "python",
   "pygments_lexer": "ipython3",
   "version": "3.11.6"
  }
 },
 "nbformat": 4,
 "nbformat_minor": 2
}
