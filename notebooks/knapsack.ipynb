{
 "cells": [
  {
   "cell_type": "code",
   "execution_count": null,
   "metadata": {},
   "outputs": [],
   "source": [
    "# In this notebook we will explore the knapsack problem and its solution using dynamic programming and genetic algorithms"
   ]
  },
  {
   "cell_type": "code",
   "execution_count": null,
   "metadata": {},
   "outputs": [],
   "source": [
    "# first we will implement the dynamic programming solution"
   ]
  },
  {
   "cell_type": "code",
   "execution_count": null,
   "metadata": {},
   "outputs": [],
   "source": [
    "import random"
   ]
  },
  {
   "cell_type": "code",
   "execution_count": null,
   "metadata": {},
   "outputs": [],
   "source": [
    "def knapsack(values, weights, capacity, verbose=False):\n",
    "    num_items = len(values)\n",
    "\n",
    "    dp = []\n",
    "    for i in range(num_items + 1):\n",
    "        dp.append([0] * (capacity + 1))\n",
    "\n",
    "    for i in range(1, num_items + 1):\n",
    "        for w in range(1, capacity + 1):\n",
    "            if weights[i - 1] <= w:\n",
    "                value_including_item = values[i - 1] + dp[i - 1][w - weights[i - 1]]\n",
    "                value_excluding_item = dp[i - 1][w]\n",
    "                dp[i][w] = max(value_including_item, value_excluding_item)\n",
    "            else:\n",
    "                dp[i][w] = dp[i - 1][w]\n",
    "\n",
    "        if verbose and i % 100 == 0:\n",
    "            print(f\"Finished {i} items\")\n",
    "\n",
    "    return dp[num_items][capacity]"
   ]
  },
  {
   "cell_type": "code",
   "execution_count": null,
   "metadata": {},
   "outputs": [],
   "source": [
    "# tests for the knapsack function\n",
    "\n",
    "values = [60, 100, 110, 40, 50, 60]  \n",
    "weights = [10, 20, 30, 5, 30, 5]   \n",
    "\n",
    "test_capacities = [10, 20, 30, 50, 60, 70, 80, 90, 100]\n",
    "for capacity in test_capacities:\n",
    "    print(f\"Capacity: {capacity} -> {knapsack(values, weights, capacity)}\")"
   ]
  },
  {
   "cell_type": "markdown",
   "metadata": {},
   "source": [
    "We can see a cool abstract depiction of knapsacks as a part of a genetic DNA sequence below"
   ]
  },
  {
   "cell_type": "markdown",
   "metadata": {},
   "source": [
    "<img src=\"img/knapsack_pic.png\" alt=\"knapsack abstract\" width=\"400\"/>"
   ]
  },
  {
   "cell_type": "code",
   "execution_count": 40,
   "metadata": {},
   "outputs": [],
   "source": [
    "from time import time\n",
    "\n",
    "def generate_knapsack(num_items):\n",
    "    knapsack = [random.choice([0, 1]) for _ in range(num_items)]\n",
    "    knapsack_capacity = 0\n",
    "    for i in range(len(knapsack)):\n",
    "        if knapsack[i] == 1:\n",
    "            knapsack_capacity += weights[i]\n",
    "    return knapsack\n",
    "\n",
    "def calculate_fitness(knapsack, values, weights, capacity):\n",
    "    total_value = 0\n",
    "    total_weight = 0\n",
    "    for i in range(len(knapsack)):\n",
    "        if knapsack[i] == 1:\n",
    "            total_value += values[i]\n",
    "            total_weight += weights[i]\n",
    "    if total_weight > capacity:\n",
    "        return 0  # Penalize for exceeding capacity\n",
    "    return total_value\n",
    "\n",
    "def crossover(parent1, parent2):\n",
    "    crossover_point = random.randint(1, len(parent1) - 1)\n",
    "    child1 = parent1[:crossover_point] + parent2[crossover_point:]\n",
    "    child2 = parent2[:crossover_point] + parent1[crossover_point:]\n",
    "    return child1, child2\n",
    "\n",
    "def mutate(knapsack, mutation_rate=0.05):\n",
    "    for i in range(len(knapsack)):\n",
    "        if random.random() < mutation_rate:\n",
    "            knapsack[i] = 1 - knapsack[i]  # Flip the bit\n",
    "    return knapsack\n",
    "\n",
    "def knapsack_gen(values, weights, capacity, num_generations = 50, verbose=False, log_times = False):\n",
    "    # Parameters\n",
    "    num_items = len(values) \n",
    "    population_size = 1000\n",
    "    times = {}\n",
    "\n",
    "    population = [generate_knapsack(num_items) for _ in range(population_size)]\n",
    "\n",
    "    for gen in range(num_generations):\n",
    "        # Calculate fitness for each knapsack\n",
    "        fitness_scores = [calculate_fitness(k, values, weights, capacity) for k in population]\n",
    "\n",
    "        # Sort the population based on fitness and select the top knapsacks\n",
    "        sorted_population = [x for _, x in sorted(zip(fitness_scores, population), reverse=True)]\n",
    "        parents = sorted_population[:50]\n",
    "\n",
    "        # Generate new population through crossover and mutation\n",
    "        new_population = parents[:]\n",
    "        while len(new_population) < population_size:\n",
    "            parent1, parent2 = random.sample(parents, 2)\n",
    "            child1, child2 = crossover(parent1, parent2)\n",
    "            new_population.extend([mutate(child1), mutate(child2)])\n",
    "\n",
    "        population = new_population\n",
    "\n",
    "        if verbose and gen % 10 == 0:\n",
    "            best_solution = max(population, key=lambda k: calculate_fitness(k, values, weights, capacity))\n",
    "            best_fitness = calculate_fitness(best_solution, values, weights, capacity)\n",
    "            print(f\"Generation: {gen} | Best fitness: {best_fitness}\")\n",
    "        \n",
    "        if log_times and gen % 10 == 0:\n",
    "            times[time()] = [gen, best_fitness]\n",
    "\n",
    "    # Find the best solution at the end of the process\n",
    "    best_solution = max(population, key=lambda k: calculate_fitness(k, values, weights, capacity))\n",
    "    best_fitness = calculate_fitness(best_solution, values, weights, capacity)\n",
    "\n",
    "    if log_times:\n",
    "        return best_solution, best_fitness, times\n",
    "    \n",
    "    return best_solution, best_fitness"
   ]
  },
  {
   "cell_type": "code",
   "execution_count": 34,
   "metadata": {},
   "outputs": [
    {
     "name": "stdout",
     "output_type": "stream",
     "text": [
      "Capacity: 10 -> 100\n",
      "Capacity: 20 -> 160\n",
      "Capacity: 30 -> 200\n",
      "Capacity: 50 -> 270\n",
      "Capacity: 60 -> 310\n",
      "Capacity: 70 -> 370\n",
      "Capacity: 80 -> 370\n",
      "Capacity: 90 -> 370\n",
      "Capacity: 100 -> 420\n"
     ]
    }
   ],
   "source": [
    "values = [60, 100, 110, 40, 50, 60]  \n",
    "weights = [10, 20, 30, 5, 30, 5]   \n",
    "\n",
    "test_capacities = [10, 20, 30, 50, 60, 70, 80, 90, 100]\n",
    "for capacity in test_capacities:\n",
    "    print(f\"Capacity: {capacity} -> {knapsack_gen(values, weights, capacity)[1]}\")"
   ]
  },
  {
   "cell_type": "markdown",
   "metadata": {},
   "source": [
    "We can see here we get the same solution as previously with our DP solution"
   ]
  },
  {
   "cell_type": "markdown",
   "metadata": {},
   "source": [
    "Now let's start to test the limits of our DP solution"
   ]
  },
  {
   "cell_type": "code",
   "execution_count": null,
   "metadata": {},
   "outputs": [],
   "source": []
  },
  {
   "cell_type": "code",
   "execution_count": null,
   "metadata": {},
   "outputs": [],
   "source": [
    "random.seed(0)\n",
    "values = [random.randint(10, 100) for _ in range(1000)]\n",
    "weights = [random.randint(10, 100) for _ in range(1000)]\n",
    "capacity = 25000"
   ]
  },
  {
   "cell_type": "code",
   "execution_count": null,
   "metadata": {},
   "outputs": [],
   "source": [
    "start = time()\n",
    "print(knapsack(values, weights, capacity))\n",
    "print(f\"Dynamic Programming Time: {time() - start}\")"
   ]
  },
  {
   "cell_type": "code",
   "execution_count": null,
   "metadata": {},
   "outputs": [],
   "source": [
    "start = time()\n",
    "print(knapsack_gen(values, weights, capacity, 1000)[1])\n",
    "print(f\"Genetic Algorithm Time: {time() - start}\")"
   ]
  },
  {
   "cell_type": "markdown",
   "metadata": {},
   "source": [
    "Now lets really blow things up"
   ]
  },
  {
   "cell_type": "code",
   "execution_count": 35,
   "metadata": {},
   "outputs": [],
   "source": [
    "random.seed(0)\n",
    "values = [random.randint(10, 100) for _ in range(10000)]\n",
    "weights = [random.randint(10, 100) for _ in range(10000)]\n",
    "capacity = 275000"
   ]
  },
  {
   "cell_type": "code",
   "execution_count": null,
   "metadata": {},
   "outputs": [],
   "source": [
    "start = time()\n",
    "print(knapsack(values, weights, capacity, True))\n",
    "print(f\"Dynamic Programming Time: {time() - start}\")"
   ]
  },
  {
   "cell_type": "markdown",
   "metadata": {},
   "source": [
    "Optimal Solution is 420550\n",
    "Took 690 seconds to run"
   ]
  },
  {
   "cell_type": "code",
   "execution_count": 41,
   "metadata": {},
   "outputs": [
    {
     "name": "stdout",
     "output_type": "stream",
     "text": [
      "Generation: 0 | Best fitness: 281322\n",
      "Generation: 10 | Best fitness: 290359\n",
      "Generation: 20 | Best fitness: 292847\n",
      "Generation: 30 | Best fitness: 296893\n",
      "Generation: 40 | Best fitness: 296893\n",
      "Generation: 50 | Best fitness: 297329\n",
      "Generation: 60 | Best fitness: 299513\n",
      "Generation: 70 | Best fitness: 299545\n",
      "Generation: 80 | Best fitness: 300522\n",
      "Generation: 90 | Best fitness: 300522\n",
      "Generation: 100 | Best fitness: 300522\n",
      "Generation: 110 | Best fitness: 300605\n",
      "Generation: 120 | Best fitness: 300605\n",
      "Generation: 130 | Best fitness: 300605\n",
      "Generation: 140 | Best fitness: 301251\n",
      "Generation: 150 | Best fitness: 301801\n",
      "Generation: 160 | Best fitness: 302030\n",
      "Generation: 170 | Best fitness: 302654\n",
      "Generation: 180 | Best fitness: 302654\n",
      "Generation: 190 | Best fitness: 302654\n",
      "Generation: 200 | Best fitness: 302654\n",
      "Generation: 210 | Best fitness: 302654\n",
      "Generation: 220 | Best fitness: 302901\n",
      "Generation: 230 | Best fitness: 302901\n",
      "Generation: 240 | Best fitness: 302901\n",
      "Generation: 250 | Best fitness: 302901\n",
      "Generation: 260 | Best fitness: 303052\n",
      "Generation: 270 | Best fitness: 303052\n",
      "Generation: 280 | Best fitness: 303052\n",
      "Generation: 290 | Best fitness: 303751\n",
      "Generation: 300 | Best fitness: 303751\n",
      "Generation: 310 | Best fitness: 303751\n",
      "Generation: 320 | Best fitness: 303751\n",
      "Generation: 330 | Best fitness: 303751\n",
      "Generation: 340 | Best fitness: 303751\n",
      "Generation: 350 | Best fitness: 303751\n",
      "Generation: 360 | Best fitness: 303751\n",
      "Generation: 370 | Best fitness: 303751\n",
      "Generation: 380 | Best fitness: 303751\n",
      "Generation: 390 | Best fitness: 303751\n",
      "Generation: 400 | Best fitness: 304207\n",
      "Generation: 410 | Best fitness: 304207\n",
      "Generation: 420 | Best fitness: 304759\n",
      "Generation: 430 | Best fitness: 304759\n",
      "Generation: 440 | Best fitness: 304759\n",
      "Generation: 450 | Best fitness: 304759\n",
      "Generation: 460 | Best fitness: 304759\n",
      "Generation: 470 | Best fitness: 304759\n",
      "Generation: 480 | Best fitness: 305610\n",
      "Generation: 490 | Best fitness: 305610\n",
      "Generation: 500 | Best fitness: 305610\n",
      "Generation: 510 | Best fitness: 305610\n",
      "Generation: 520 | Best fitness: 305610\n",
      "Generation: 530 | Best fitness: 305610\n",
      "Generation: 540 | Best fitness: 305610\n",
      "Generation: 550 | Best fitness: 305610\n",
      "Generation: 560 | Best fitness: 305610\n",
      "Generation: 570 | Best fitness: 305610\n",
      "Generation: 580 | Best fitness: 305610\n",
      "Generation: 590 | Best fitness: 305610\n",
      "Generation: 600 | Best fitness: 305674\n",
      "Generation: 610 | Best fitness: 305674\n",
      "Generation: 620 | Best fitness: 305674\n",
      "Generation: 630 | Best fitness: 305798\n",
      "Generation: 640 | Best fitness: 305798\n",
      "Generation: 650 | Best fitness: 305798\n",
      "Generation: 660 | Best fitness: 306550\n",
      "Generation: 670 | Best fitness: 306550\n",
      "Generation: 680 | Best fitness: 306550\n",
      "Generation: 690 | Best fitness: 306550\n",
      "Generation: 700 | Best fitness: 306550\n",
      "Generation: 710 | Best fitness: 306550\n",
      "Generation: 720 | Best fitness: 306550\n",
      "Generation: 730 | Best fitness: 306550\n",
      "Generation: 740 | Best fitness: 306550\n",
      "Generation: 750 | Best fitness: 306550\n",
      "Generation: 760 | Best fitness: 306588\n",
      "Generation: 770 | Best fitness: 306588\n",
      "Generation: 780 | Best fitness: 306723\n",
      "Generation: 790 | Best fitness: 306723\n",
      "Generation: 800 | Best fitness: 306936\n",
      "Generation: 810 | Best fitness: 306936\n",
      "Generation: 820 | Best fitness: 306936\n",
      "Generation: 830 | Best fitness: 306936\n",
      "Generation: 840 | Best fitness: 306936\n",
      "Generation: 850 | Best fitness: 306936\n",
      "Generation: 860 | Best fitness: 306936\n",
      "Generation: 870 | Best fitness: 306936\n",
      "Generation: 880 | Best fitness: 306936\n",
      "Generation: 890 | Best fitness: 306936\n",
      "Generation: 900 | Best fitness: 306936\n",
      "Generation: 910 | Best fitness: 306936\n",
      "Generation: 920 | Best fitness: 306936\n",
      "Generation: 930 | Best fitness: 306936\n",
      "Generation: 940 | Best fitness: 306936\n",
      "Generation: 950 | Best fitness: 306936\n",
      "Generation: 960 | Best fitness: 306936\n",
      "Generation: 970 | Best fitness: 306936\n",
      "Generation: 980 | Best fitness: 306936\n",
      "Generation: 990 | Best fitness: 306936\n",
      "Genetic Algorithm Time: 771.3879110813141\n"
     ]
    }
   ],
   "source": [
    "start = time()\n",
    "best_sol, best_fit, times = knapsack_gen(values, weights, capacity, 1000, True, True)\n",
    "print(f\"Genetic Algorithm Time: {time() - start}\")"
   ]
  },
  {
   "cell_type": "markdown",
   "metadata": {},
   "source": [
    "We can see that our genetic algorithm does not closely match the optimal solution, but it does generate an acceptable estimate depending on the criteria of the problem. As the state space grows, the genetic algorithm will be able to find a solution much faster than the DP solution which can be very valuable if an approximate solution is acceptable where DP would take too long to find even that. That being said, if an optimal solution is required, DP is the way to go, especially if the state space is small enough to be computed in a reasonable amount of time."
   ]
  },
  {
   "cell_type": "code",
   "execution_count": null,
   "metadata": {},
   "outputs": [],
   "source": []
  }
 ],
 "metadata": {
  "kernelspec": {
   "display_name": "Python 3",
   "language": "python",
   "name": "python3"
  },
  "language_info": {
   "codemirror_mode": {
    "name": "ipython",
    "version": 3
   },
   "file_extension": ".py",
   "mimetype": "text/x-python",
   "name": "python",
   "nbconvert_exporter": "python",
   "pygments_lexer": "ipython3",
   "version": "3.11.6"
  }
 },
 "nbformat": 4,
 "nbformat_minor": 2
}
